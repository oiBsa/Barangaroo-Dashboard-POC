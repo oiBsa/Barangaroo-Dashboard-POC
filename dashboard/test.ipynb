{
 "cells": [
  {
   "cell_type": "code",
   "execution_count": 2,
   "metadata": {},
   "outputs": [],
   "source": [
    "import pandas as pd\n",
    "import os\n",
    "\n",
    "tree_DF = pd.ExcelFile(\"../barangaroo//static//admin//file//MeterTree.xlsx\").parse(sheet_name=\"Meter\")\n"
   ]
  },
  {
   "cell_type": "code",
   "execution_count": 38,
   "metadata": {},
   "outputs": [],
   "source": [
    "levels = [\"B{:02.0f}\".format(i) for i in range(1, 10)] + [\"LGF\", \"GND\"] + [\"L{:02.0f}\".format(j) for j in range(1, 100)]\n",
    "lowRise_levels = [\"B{:02.0f}\".format(i) for i in range(1, 10)] + [\"LGF\", \"GND\"] + [\"L{:02.0f}\".format(j) for j in range(1, 12)]\n",
    "midRise_levels  = [\"L{:02.0f}\".format(j) for j in range(12, 24)]\n",
    "highRise_levels  = [\"L{:02.0f}\".format(j) for j in range(24, 37)]\n",
    "level_wise_record = {}\n",
    "for lvl in levels:\n",
    "    lvl_df = tree_DF[tree_DF[\"Parent\"].str.contains(lvl)]\n",
    "    if lvl_df.empty==False:level_wise_record[lvl] = lvl_df\n",
    "lowRise = pd.concat([v for k, v in level_wise_record.items() if k in lowRise_levels])\n",
    "midRise = pd.concat([v for k, v in level_wise_record.items() if k in midRise_levels])\n",
    "highRise = pd.concat([v for k, v in level_wise_record.items() if k in highRise_levels])\n",
    "lowRise_meter_relations = [[i[0], i[3], i[4]]for i in lowRise.values.tolist()]\n",
    "lowRise_parents = [[i[0], i[1]] for i in lowRise[~lowRise[\"Parent\"].isin(lowRise[\"Child\"])].drop_duplicates(subset=[\"Parent\"]).values.tolist()]\n",
    "midRise_meter_relations = [[i[0], i[3], i[4]]for i in midRise.values.tolist()]\n",
    "midRise_parents = [[i[0], i[1]] for i in midRise[~midRise[\"Parent\"].isin(midRise[\"Child\"])].drop_duplicates(subset=[\"Parent\"]).values.tolist()]\n",
    "highRise_meter_relations = [[i[0], i[3], i[4]]for i in highRise.values.tolist()]\n",
    "highRise_parents = [[i[0], i[1]] for i in highRise[~highRise[\"Parent\"].isin(highRise[\"Child\"])].drop_duplicates(subset=[\"Parent\"]).values.tolist()]"
   ]
  },
  {
   "cell_type": "code",
   "execution_count": 40,
   "metadata": {},
   "outputs": [],
   "source": [
    "lowRise_meter_relations = [[i[0], i[3], i[4]]for i in lowRise.values.tolist()]\n",
    "lowRise_parents = [[i[0], i[1]] for i in lowRise[~lowRise[\"Parent\"].isin(lowRise[\"Child\"])].drop_duplicates(subset=[\"Parent\"]).values.tolist()]"
   ]
  },
  {
   "cell_type": "code",
   "execution_count": 41,
   "metadata": {},
   "outputs": [],
   "source": [
    "midRise_meter_relations = [[i[0], i[3], i[4]]for i in midRise.values.tolist()]\n",
    "midRise_parents = [[i[0], i[1]] for i in midRise[~midRise[\"Parent\"].isin(midRise[\"Child\"])].drop_duplicates(subset=[\"Parent\"]).values.tolist()]"
   ]
  },
  {
   "cell_type": "code",
   "execution_count": null,
   "metadata": {},
   "outputs": [],
   "source": [
    "highRise_meter_relations = [[i[0], i[3], i[4]]for i in highRise.values.tolist()]\n",
    "highRise_parents = [[i[0], i[1]] for i in highRise[~highRise[\"Parent\"].isin(highRise[\"Child\"])].drop_duplicates(subset=[\"Parent\"]).values.tolist()]"
   ]
  },
  {
   "cell_type": "code",
   "execution_count": 46,
   "metadata": {},
   "outputs": [],
   "source": [
    "cat = [\"MSSB\", \"MSB\", \"DB\", \"TX\"]\n",
    "cat_wise_record = {}\n",
    "for c in cat:\n",
    "    cat_df = tree_DF[tree_DF[\"Parent Name\"].str.contains(c)]\n",
    "    if cat_df.empty==False: \n",
    "        cat_wise_record[c] = [[[i[0], i[3], i[4]]for i in cat_df.values.tolist()],\n",
    "                              [[i[0], i[1]] for i in cat_df[~cat_df[\"Parent\"].isin(cat_df[\"Child\"])].drop_duplicates(subset=[\"Parent\"]).values.tolist()]]"
   ]
  },
  {
   "cell_type": "code",
   "execution_count": 49,
   "metadata": {},
   "outputs": [
    {
     "data": {
      "text/plain": [
       "[['EMS-B02-ELE-018', 'EMS-LG-MEC-001', 'AMEM-MSSB-LG-1-1'],\n",
       " ['EMS-B02-ELE-018', 'EMS-LG-MEC-002', 'AMEM-MSSB-LG-1-2'],\n",
       " ['EMS-B02-ELE-008', 'EMS-LG-MEC-003', 'AMEM-MSSB-LG-1E-1'],\n",
       " ['EMS-B02-ELE-004', 'EMS-L11-MEC-002', 'AMEM-MSSB-L11-1E-1'],\n",
       " ['EMS-B02-ELE-004', 'EMS-L11-MEC-003', 'AMEM-MSSB-L11-1E-2'],\n",
       " ['EMS-B02-ELE-004', 'EMS-L11-MEC-004', 'AMEM-MSSB-L11-1E-3'],\n",
       " ['EMS-B02-ELE-006', 'EMS-L35-MEC-001', 'AMEM-MSSB-L35-1'],\n",
       " ['EMS-B02-ELE-006', 'EMS-L35-MEC-002', 'AMEM-MSSB-L35-2'],\n",
       " ['EMS-L35-ELE-004', 'EMS-L36-MEC-001', 'AMEM-MSSB-L36-1'],\n",
       " ['EMS-L35-ELE-004', 'EMS-L36-MEC-002', 'AMEM-MSSB-L36-2'],\n",
       " ['EMS-L35-ELE-004', 'EMS-L36-MEC-003', 'AMEM-MSSB-L36-3'],\n",
       " ['EMS-L35-ELE-005', 'EMS-L36-MEC-004', 'AMEM-MSSB-L36-2-1'],\n",
       " ['EMS-L35-ELE-005', 'EMS-L36-MEC-005', 'AMEM-MSSB-L36-2-2']]"
      ]
     },
     "execution_count": 49,
     "metadata": {},
     "output_type": "execute_result"
    }
   ],
   "source": [
    "cat_wise_record[\"MSSB\"][0]"
   ]
  },
  {
   "cell_type": "code",
   "execution_count": null,
   "metadata": {},
   "outputs": [],
   "source": []
  }
 ],
 "metadata": {
  "kernelspec": {
   "display_name": "Python 3.10.6 64-bit",
   "language": "python",
   "name": "python3"
  },
  "language_info": {
   "codemirror_mode": {
    "name": "ipython",
    "version": 3
   },
   "file_extension": ".py",
   "mimetype": "text/x-python",
   "name": "python",
   "nbconvert_exporter": "python",
   "pygments_lexer": "ipython3",
   "version": "3.10.6"
  },
  "orig_nbformat": 4,
  "vscode": {
   "interpreter": {
    "hash": "890f64b6d85c855803989f8a1692d4efef0240519f60f546076b07230a50d003"
   }
  }
 },
 "nbformat": 4,
 "nbformat_minor": 2
}
