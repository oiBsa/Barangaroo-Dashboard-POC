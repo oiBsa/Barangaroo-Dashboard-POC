{
 "cells": [
  {
   "cell_type": "code",
   "execution_count": 3,
   "metadata": {},
   "outputs": [],
   "source": [
    "import requests\n",
    "\n",
    "headers = {\n",
    "    'Accept': 'application/json',\n",
    "    'Authorization': 'apikey g0792hSuYtu6sAOXdkrkYgowrSmymxVeCHsp',\n",
    "}\n",
    "\n",
    "response = requests.get('https://api.transport.nsw.gov.au/v1/live/hazards/incident/open', headers=headers)"
   ]
  },
  {
   "cell_type": "code",
   "execution_count": 5,
   "metadata": {},
   "outputs": [],
   "source": [
    "res = response.json()"
   ]
  },
  {
   "cell_type": "code",
   "execution_count": 6,
   "metadata": {},
   "outputs": [
    {
     "data": {
      "text/plain": [
       "dict_keys(['type', 'lastPublished', 'layerName', 'rights', 'features'])"
      ]
     },
     "execution_count": 6,
     "metadata": {},
     "output_type": "execute_result"
    }
   ],
   "source": [
    "res.keys()"
   ]
  },
  {
   "cell_type": "code",
   "execution_count": 9,
   "metadata": {},
   "outputs": [
    {
     "data": {
      "text/plain": [
       "'FeatureCollection'"
      ]
     },
     "execution_count": 9,
     "metadata": {},
     "output_type": "execute_result"
    }
   ],
   "source": [
    "res[\"type\"]"
   ]
  },
  {
   "cell_type": "code",
   "execution_count": 10,
   "metadata": {},
   "outputs": [
    {
     "data": {
      "text/plain": [
       "1667539712000"
      ]
     },
     "execution_count": 10,
     "metadata": {},
     "output_type": "execute_result"
    }
   ],
   "source": [
    "res[\"lastPublished\"]"
   ]
  },
  {
   "cell_type": "code",
   "execution_count": 13,
   "metadata": {},
   "outputs": [
    {
     "data": {
      "text/plain": [
       "'Incident-Open'"
      ]
     },
     "execution_count": 13,
     "metadata": {},
     "output_type": "execute_result"
    }
   ],
   "source": [
    "res[\"layerName\"]"
   ]
  },
  {
   "cell_type": "code",
   "execution_count": 15,
   "metadata": {},
   "outputs": [
    {
     "data": {
      "text/plain": [
       "{'copyright': 'Transport for NSW',\n",
       " 'licence': 'https://opendata.transport.nsw.gov.au/dataset/live-traffic-hazards'}"
      ]
     },
     "execution_count": 15,
     "metadata": {},
     "output_type": "execute_result"
    }
   ],
   "source": [
    "res[\"rights\"]"
   ]
  },
  {
   "cell_type": "code",
   "execution_count": 18,
   "metadata": {},
   "outputs": [
    {
     "data": {
      "text/plain": [
       "{'type': 'Feature',\n",
       " 'id': 120438,\n",
       " 'geometry': {'type': 'Point',\n",
       "  'coordinates': [150.738476, -33.411732],\n",
       "  'collections': []},\n",
       " 'properties': {'webLinks': [{'linkText': 'Hawkesbury City Council',\n",
       "    'linkURL': 'https://www.hawkesbury.nsw.gov.au/_resources/media-releases/2021/september/rebuilding-upper-colo-bridge'}],\n",
       "  'headline': '',\n",
       "  'periods': [],\n",
       "  'speedLimit': -1,\n",
       "  'weblinkUrl': None,\n",
       "  'expectedDelay': -1,\n",
       "  'ended': False,\n",
       "  'isNewIncident': False,\n",
       "  'publicTransport': '',\n",
       "  'impactingNetwork': True,\n",
       "  'subCategoryB': None,\n",
       "  'arrangementAttachments': [],\n",
       "  'isInitialReport': False,\n",
       "  'created': 1651036529000,\n",
       "  'isMajor': False,\n",
       "  'name': None,\n",
       "  'subCategoryA': 'Due to an earlier incident',\n",
       "  'adviceA': 'Use an alternative route',\n",
       "  'adviceB': 'Plan your journey',\n",
       "  'adviceC': ' ',\n",
       "  'incidentKind': 'Unplanned',\n",
       "  'mainCategory': 'CHANGED TRAFFIC CONDITIONS',\n",
       "  'lastUpdated': 1660491828738,\n",
       "  'otherAdvice': '<p>The Upper Colo Bridge has been extensively damaged by floodwater and is impassable.\\xa0<br></p>',\n",
       "  'arrangementElements': [],\n",
       "  'diversions': '',\n",
       "  'additionalInfo': [],\n",
       "  'weblinkName': None,\n",
       "  'attendingGroups': ['Local Council'],\n",
       "  'encodedPolylines': [{'levels': '',\n",
       "    'coords': 'jt|jEw|_w[b@oA\\\\wAKm@k@_@]iA'}],\n",
       "  'displayName': 'CHANGED TRAFFIC CONDITIONS due to flooding',\n",
       "  'media': [],\n",
       "  'roads': [{'conditionTendency': '',\n",
       "    'crossStreet': 'Upper Colo Bridge',\n",
       "    'delay': '',\n",
       "    'impactedLanes': [{'affectedDirection': 'Both directions',\n",
       "      'closedLanes': '',\n",
       "      'description': '',\n",
       "      'extent': 'Closed',\n",
       "      'numberOfLanes': '',\n",
       "      'roadType': 'Bridge'}],\n",
       "    'locationQualifier': 'at',\n",
       "    'mainStreet': 'Colo Heights Road',\n",
       "    'quadrant': '',\n",
       "    'queueLength': 0,\n",
       "    'region': 'Sydney',\n",
       "    'secondLocation': '',\n",
       "    'suburb': 'Upper Colo',\n",
       "    'trafficVolume': ''}]}}"
      ]
     },
     "execution_count": 18,
     "metadata": {},
     "output_type": "execute_result"
    }
   ],
   "source": [
    "res[\"features\"][0]"
   ]
  },
  {
   "cell_type": "code",
   "execution_count": null,
   "metadata": {},
   "outputs": [],
   "source": []
  }
 ],
 "metadata": {
  "kernelspec": {
   "display_name": "Python 3.10.6 64-bit",
   "language": "python",
   "name": "python3"
  },
  "language_info": {
   "codemirror_mode": {
    "name": "ipython",
    "version": 3
   },
   "file_extension": ".py",
   "mimetype": "text/x-python",
   "name": "python",
   "nbconvert_exporter": "python",
   "pygments_lexer": "ipython3",
   "version": "3.10.6"
  },
  "orig_nbformat": 4,
  "vscode": {
   "interpreter": {
    "hash": "890f64b6d85c855803989f8a1692d4efef0240519f60f546076b07230a50d003"
   }
  }
 },
 "nbformat": 4,
 "nbformat_minor": 2
}
