{
 "cells": [
  {
   "cell_type": "code",
   "execution_count": 3,
   "metadata": {},
   "outputs": [],
   "source": [
    "import requests\n",
    "\n",
    "headers = {\n",
    "    'Accept': 'application/json',\n",
    "    'Authorization': 'apikey g0792hSuYtu6sAOXdkrkYgowrSmymxVeCHsp',\n",
    "}\n",
    "\n",
    "response = requests.get('https://api.transport.nsw.gov.au/v1/live/hazards/incident/open', headers=headers)"
   ]
  },
  {
   "cell_type": "code",
   "execution_count": 5,
   "metadata": {},
   "outputs": [],
   "source": [
    "res = response.json()"
   ]
  },
  {
   "cell_type": "code",
   "execution_count": 6,
   "metadata": {},
   "outputs": [
    {
     "data": {
      "text/plain": [
       "dict_keys(['type', 'lastPublished', 'layerName', 'rights', 'features'])"
      ]
     },
     "execution_count": 6,
     "metadata": {},
     "output_type": "execute_result"
    }
   ],
   "source": [
    "res.keys()"
   ]
  },
  {
   "cell_type": "code",
   "execution_count": 9,
   "metadata": {},
   "outputs": [
    {
     "data": {
      "text/plain": [
       "'FeatureCollection'"
      ]
     },
     "execution_count": 9,
     "metadata": {},
     "output_type": "execute_result"
    }
   ],
   "source": [
    "res[\"type\"]"
   ]
  },
  {
   "cell_type": "code",
   "execution_count": 10,
   "metadata": {},
   "outputs": [
    {
     "data": {
      "text/plain": [
       "1667539712000"
      ]
     },
     "execution_count": 10,
     "metadata": {},
     "output_type": "execute_result"
    }
   ],
   "source": [
    "res[\"lastPublished\"]"
   ]
  },
  {
   "cell_type": "code",
   "execution_count": 13,
   "metadata": {},
   "outputs": [
    {
     "data": {
      "text/plain": [
       "'Incident-Open'"
      ]
     },
     "execution_count": 13,
     "metadata": {},
     "output_type": "execute_result"
    }
   ],
   "source": [
    "res[\"layerName\"]"
   ]
  },
  {
   "cell_type": "code",
   "execution_count": 15,
   "metadata": {},
   "outputs": [
    {
     "data": {
      "text/plain": [
       "{'copyright': 'Transport for NSW',\n",
       " 'licence': 'https://opendata.transport.nsw.gov.au/dataset/live-traffic-hazards'}"
      ]
     },
     "execution_count": 15,
     "metadata": {},
     "output_type": "execute_result"
    }
   ],
   "source": [
    "res[\"rights\"]"
   ]
  },
  {
   "cell_type": "code",
   "execution_count": 20,
   "metadata": {},
   "outputs": [
    {
     "data": {
      "text/plain": [
       "{'type': 'Feature',\n",
       " 'id': 140583,\n",
       " 'geometry': {'type': 'Point',\n",
       "  'coordinates': [150.825621, -33.877642],\n",
       "  'collections': []},\n",
       " 'properties': {'webLinks': [],\n",
       "  'headline': '',\n",
       "  'periods': [],\n",
       "  'speedLimit': -1,\n",
       "  'weblinkUrl': None,\n",
       "  'expectedDelay': -1,\n",
       "  'ended': False,\n",
       "  'isNewIncident': True,\n",
       "  'publicTransport': '',\n",
       "  'impactingNetwork': True,\n",
       "  'subCategoryB': None,\n",
       "  'arrangementAttachments': [],\n",
       "  'isInitialReport': False,\n",
       "  'created': 1667539676000,\n",
       "  'isMajor': False,\n",
       "  'name': None,\n",
       "  'subCategoryA': '2 cars',\n",
       "  'adviceA': 'Reduce your speed',\n",
       "  'adviceB': 'Exercise caution',\n",
       "  'adviceC': ' ',\n",
       "  'incidentKind': 'Unplanned',\n",
       "  'mainCategory': 'CRASH',\n",
       "  'lastUpdated': 1667539676491,\n",
       "  'otherAdvice': '',\n",
       "  'arrangementElements': [],\n",
       "  'diversions': '',\n",
       "  'additionalInfo': [],\n",
       "  'weblinkName': None,\n",
       "  'attendingGroups': ['Emergency services', 'Transport for NSW'],\n",
       "  'encodedPolylines': [],\n",
       "  'displayName': 'CRASH 2 cars',\n",
       "  'media': [],\n",
       "  'roads': [{'conditionTendency': '',\n",
       "    'crossStreet': 'Duff Road',\n",
       "    'delay': '',\n",
       "    'impactedLanes': [{'affectedDirection': 'Westbound',\n",
       "      'closedLanes': '',\n",
       "      'description': '',\n",
       "      'extent': 'Affected',\n",
       "      'numberOfLanes': '',\n",
       "      'roadType': ''}],\n",
       "    'locationQualifier': 'at',\n",
       "    'mainStreet': 'Elizabeth Drive',\n",
       "    'quadrant': '',\n",
       "    'queueLength': 0,\n",
       "    'region': 'Sydney',\n",
       "    'secondLocation': '',\n",
       "    'suburb': 'Cecil Hills',\n",
       "    'trafficVolume': ''}]}}"
      ]
     },
     "execution_count": 20,
     "metadata": {},
     "output_type": "execute_result"
    }
   ],
   "source": [
    "res[\"features\"][-1]"
   ]
  },
  {
   "cell_type": "code",
   "execution_count": 29,
   "metadata": {},
   "outputs": [
    {
     "name": "stdout",
     "output_type": "stream",
     "text": [
      "Elizabeth Drive, Cecil Park, Sydney, Fairfield City Council, New South Wales, 2178, Australia\n"
     ]
    }
   ],
   "source": [
    "from geopy.geocoders import Nominatim\n",
    "geolocator = Nominatim(user_agent=\"Burhan\")\n",
    "location = geolocator.reverse(\"-33.877642, 150.825621\")\n",
    "print(location.address)"
   ]
  },
  {
   "cell_type": "code",
   "execution_count": null,
   "metadata": {},
   "outputs": [],
   "source": []
  }
 ],
 "metadata": {
  "kernelspec": {
   "display_name": "Python 3.10.6 64-bit",
   "language": "python",
   "name": "python3"
  },
  "language_info": {
   "codemirror_mode": {
    "name": "ipython",
    "version": 3
   },
   "file_extension": ".py",
   "mimetype": "text/x-python",
   "name": "python",
   "nbconvert_exporter": "python",
   "pygments_lexer": "ipython3",
   "version": "3.10.6"
  },
  "orig_nbformat": 4,
  "vscode": {
   "interpreter": {
    "hash": "890f64b6d85c855803989f8a1692d4efef0240519f60f546076b07230a50d003"
   }
  }
 },
 "nbformat": 4,
 "nbformat_minor": 2
}
